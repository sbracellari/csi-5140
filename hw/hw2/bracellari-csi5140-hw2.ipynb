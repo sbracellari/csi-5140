{
 "cells": [
  {
   "cell_type": "markdown",
   "metadata": {},
   "source": [
    "# CSI 5140 — Homework 2\n",
    "\n",
    "## Samantha Bracellari\n",
    "\n",
    "### Question 1\n",
    "\n",
    "There are two Jupyter notebooks posted on Moodle. There notebooks contain code for training a two layer neural network; one notebook is based only on numpy while the other one uses torch's autograd feature to compute gradients. The input is a two-dimensional feature vector and the desired output is coded as a one-hot vector.\n",
    "\n",
    "- First, play with a few learning rates over the range of 0.1 to 0.1e-8. Then perform an experiment by selecting three learning rates and generate plots showing how loss goes down with training.\n",
    "- Pick the best learning rate found in the previous step and change the number of hidden layer neurons to 20, 30, 40, and 50. Plot the accuracy vs hidden layer size.\n",
    "- Next, replace the ReLU function with sigmoidal units and repeat the above steps.\n",
    "\n",
    "#### Part 1 — Learning Rates & Loss\n",
    "\n",
    "##### PyTorch Autograd\n",
    "\n",
    "I choose 0.01, 0.00001, and 0.00000001 as my three learning rates.\n",
    "\n",
    "<!-- | learning rate: 0.01 | learning rate: 0.00001 | learning rate: 0.00000001 |\n",
    "|:-------------------:|:----------------------:|:-------------------------:|\n",
    "|![ag1](ag1.png)      |![ag2](ag2.png)         |![ag3](ag3.png)            | -->\n",
    "\n",
    "Learning rate: 0.01\n",
    "\n",
    "![ag1](img/ag1.png)\n",
    "\n",
    "Learning rate: 0.00001\n",
    "\n",
    "![ag2](img/ag2.png)\n",
    "\n",
    "Learning rate: 0.00000001\n",
    "\n",
    "![ag3](img/ag3.png)\n",
    "\n",
    "As you can see, autograd does not perform well at all with larger learning rates. However, I noticed that from 0.001-0.0000001, the performance was very good. It seems like, once you hit that sweet spot for learning rates, autograd performs extremely well. I did notice, however, that once the rate got very small, the performance took a small hit. But it was still good overall.\n",
    "\n",
    "##### Neural Net Model\n",
    "\n",
    "I chose 0.1, 0.01, and 0.001 as my three learning rates.\n",
    "\n",
    "<!-- | learning rate: 0.1 | learning rate: 0.01 | learning rate: 0.0001 |\n",
    "|:------------------:|:-----------------------:|:-------------------------:|\n",
    "|![nn1](nn1.png)     |![nn2](nn2.png)          |![nn3](nn3.png)            | -->\n",
    "\n",
    "Learning rate: 0.1\n",
    "\n",
    "![nn1](img/nn1.png)\n",
    "\n",
    "Learning rate: 0.01\n",
    "\n",
    "![nn2](img/nn2.png)\n",
    "\n",
    "Learning rate: 0.001\n",
    "\n",
    "![nn3](img/nn3.png)\n",
    "\n",
    "The neural net model performed extremely well with a learning rate of 0.1. As learning rate decreased, the model became less and less performant. From this small experiment, it seems like the neural not model prefers larger learning rates, whereas autograd prefers smaller ones (to an extent). The neural net model also seems much more sensitive to changes in the learning rate when compared to autograd.\n",
    "\n",
    "#### Part 2 — Hidden Layer Size & Accuracy\n",
    "\n",
    "From the above experiment, I decided that 0.00001 was the best rate for autograd, and 0.1 was the best for the neural net. With those rates locked in place, here is how the model accuracy changed as the size of the hidden layer changed.\n",
    "\n",
    "<!-- | PyTorch autograd (alpha = 0.00001)| neural net model (alpha = 0.1)|\n",
    "|:----------------------------------:|:-----------------------------:|\n",
    "|![ag4](ag4.png)               |![nn4](nn4.png)                | -->\n",
    "\n",
    "### PyTorch Autograd\n",
    "\n",
    "The learning rate is 0.00001.\n",
    "\n",
    "![ag4](img/ag4.png)\n",
    "\n",
    "### Neural Net Model \n",
    "\n",
    "The learning rate is 0.1.\n",
    "\n",
    "![nn4](img/nn4.png) \n",
    "\n",
    "Both models were extremely consistent in accuracy despite the change in hidden layer size. This leads me to believe that learning rate is much more important when it comes to multi layer networks than the size of the network itself.\n",
    "\n",
    "##### Part 3 — Sigmoidal Units, Learning Rates, & Loss\n",
    "\n",
    "##### PyTorch Autograd\n",
    "\n",
    "I continued with the same learning rates as before.\n",
    "\n",
    "<!-- | learning rate: 0.01      | learning rate: 0.00001   | learning rate: 0.00000001 |\n",
    "|:-------------------------:|:-------------------------:|:-------------------------:|\n",
    "|![ag5](ag5.png)|![ag6](ag6.png)|![ag7](ag7.png)| -->\n",
    "\n",
    "\n",
    "Learning rate: 0.01\n",
    "\n",
    "![ag5](img/ag5.png)\n",
    "\n",
    "Learning rate: 0.00001\n",
    "\n",
    "![ag6](img/ag6.png)\n",
    "\n",
    "Learning rate: 0.00000001\n",
    "\n",
    "![ag7](img/ag7.png)\n",
    "\n",
    "We achieve similar results as we did with Relu activation. There seems to be a sweet spot between 0.001-0.0000001 where the model performance is extremely good.\n",
    "\n",
    "##### Neural Net Model\n",
    "\n",
    "I continued with the same learning rates as before.\n",
    "\n",
    "<!-- | learning rate: 0.001 | learning rate: 0.000001 | learning rate: 0.00000001 |\n",
    "|:--------------------:|:-----------------------:|:-------------------------:|\n",
    "|![nn5](nn5.png)       |![nn6](nn6.png)          |![nn7](nn7.png)            | -->\n",
    "\n",
    "Learning rate: 0.1\n",
    "\n",
    "![nn5](img/nn5.png)\n",
    "\n",
    "Learning rate: 0.01\n",
    "\n",
    "![nn6](img/nn6.png)\n",
    "\n",
    "Learning rate: 0.001\n",
    "\n",
    "![nn7](img/nn7.png)\n",
    "\n",
    "The neural net model struggled a lot more with sigmoidal activation than it did with Relu. The trend is still the same, though - the model performed best at a rate of 0.1 and got worse as the rate decreased.\n",
    "\n",
    "##### Part 4 — Sigmoidal Units, Hidden Layer Size, & Accuracy\n",
    "\n",
    "<!-- | PyTorch autograd (alpha = 0.00001) | neural net model (alpha = 0.1) |\n",
    "|:-------------------------:|:----------------:|\n",
    "|![ag8](ag8.png)|![nn8](nn8.png)   | -->\n",
    "\n",
    "### PyTorch Autograd\n",
    "\n",
    "The learning rate is 0.00001.\n",
    "\n",
    "![ag8](img/ag8.png)\n",
    "\n",
    "### Neural Net Model \n",
    "\n",
    "The learning rate is 0.1.\n",
    "\n",
    "![nn8](img/nn8.png) \n",
    "\n",
    "While both models were still consistent in their accuracies, they were much lower this time, dropping from high 90s to 50s for autograd and 30s for the neural net. This leads me to believe that the original choice in activation function, Relu, was a much better one.\n",
    "\n",
    "Looking at the results as a whole, it seems that autograd is much more robust than a neural net from scratch. It is much less sensitive to changes in learning rate, and still achieved OK accuracies with an unsuitable activation function. The neural net from scratch was much more picky about the chosen learning rate, and accuracy suffered greatly with a poor choice in activation function. Both models seemed to be insensitive to hidden layer size modifications.\n"
   ]
  },
  {
   "cell_type": "markdown",
   "metadata": {},
   "source": [
    "-----\n",
    "\n",
    "### Question 2\n",
    "\n",
    "For the second exercise, you will generate 150 examples, each from two classes as per the picture shown below and train a two-layer sigmoidal network to obtain the best accuracy that you can achieve with the fewest hidden units.\n",
    "\n",
    "![q2](img/q2.png)\n",
    "\n",
    "#### Part 1 — Data Generation\n",
    "\n",
    "Manually generate data in the correct shape. Plot the data."
   ]
  },
  {
   "cell_type": "code",
   "execution_count": 72,
   "metadata": {},
   "outputs": [
    {
     "data": {
      "image/png": "[encoded data removed]",
      "text/plain": [
       "<Figure size 432x288 with 1 Axes>"
      ]
     },
     "metadata": {
      "needs_background": "light"
     },
     "output_type": "display_data"
    }
   ],
   "source": [
    "import numpy as np\n",
    "from random import random, uniform\n",
    "from math import sqrt, sin, cos, pi\n",
    "from matplotlib import pyplot as plt\n",
    "\n",
    "A, B = [], []\n",
    "\n",
    "for i in range(75):\n",
    "    theta = random()*2*pi\n",
    "    ra, rb = 0.5*sqrt(random()), 5*sqrt(random())\n",
    "    A.append([ra*cos(theta), ra*sin(theta)])\n",
    "    B.append([uniform(-0.25, 0.25)+cos(theta), uniform(-0.25, 0.25)+sin(theta)])\n",
    "\n",
    "# combine & add classes\n",
    "A = np.hstack((np.array(A), np.zeros((75,1))))\n",
    "B = np.hstack((np.array(B), np.ones((75,1))))\n",
    "\n",
    "data = np.vstack((A, B))\n",
    "np.random.shuffle(data)\n",
    "\n",
    "X = data[:, :2]\n",
    "y = (data[:, -1]).astype(int)\n",
    "\n",
    "# defining colors so things look prettier\n",
    "colors = [(1,0,0,0.2) if item == 0 else (0,0,1,0.2) for item in y]\n",
    "edges = ['red' if item == 0 else 'blue' for item in y]\n",
    "\n",
    "plt.scatter(X[:, 0], X[:, 1], c=colors, edgecolor=edges)\n",
    "plt.grid()\n",
    "plt.show()"
   ]
  },
  {
   "cell_type": "markdown",
   "metadata": {},
   "source": [
    "#### Part 2 — Data Initialization\n",
    "\n",
    "Initialize any variables needed for gradient descent. We also define the sigmoid activation function"
   ]
  },
  {
   "cell_type": "code",
   "execution_count": 73,
   "metadata": {},
   "outputs": [],
   "source": [
    "K = 2 # number of classes\n",
    "D = 2 # dimensionality\n",
    "h = 100 # size of hidden layer\n",
    "\n",
    "# initial weights & biases\n",
    "W1 =  0.1 * np.random.randn(D,h)\n",
    "W2 = 0.01 * np.random.randn(h,K)\n",
    "b1 = np.zeros((1,h))\n",
    "b2 = np.zeros((1,K))\n",
    "\n",
    "alpha = 0.1 # learning rate\n",
    "reg = 1e-3 # regularization strength\n",
    "n = X.shape[0] # number of examples\n",
    "losses = [] # to keep track of loss\n",
    " \n",
    "def sigmoid(X):\n",
    "  return 1/(1+np.exp(-X))"
   ]
  },
  {
   "cell_type": "markdown",
   "metadata": {},
   "source": [
    "#### Part 3 — Gradient Descent\n",
    "\n",
    "Perform gradient descent. We also keep track of loss."
   ]
  },
  {
   "cell_type": "code",
   "execution_count": 74,
   "metadata": {},
   "outputs": [
    {
     "data": {
      "text/plain": [
       "Text(0.5, 1.0, 'loss over time')"
      ]
     },
     "execution_count": 74,
     "metadata": {},
     "output_type": "execute_result"
    },
    {
     "data": {
      "image/png": "[encoded data removed]",
      "text/plain": [
       "<Figure size 432x288 with 1 Axes>"
      ]
     },
     "metadata": {
      "needs_background": "light"
     },
     "output_type": "display_data"
    }
   ],
   "source": [
    "# gradient descent loop\n",
    "for i in range(10000):\n",
    "  \n",
    "  # evaluate class scores\n",
    "  hidden_layer = sigmoid((np.dot(X, W1) + b1))\n",
    "  scores = np.dot(hidden_layer, W2) + b2\n",
    "  \n",
    "  # compute the class probabilities\n",
    "  exp_scores = np.exp(scores)\n",
    "  p = exp_scores / np.sum(exp_scores, axis=1, keepdims=True) # [N x K]\n",
    "  \n",
    "  # compute the loss\n",
    "  data_loss = np.sum(-np.log(p[range(n),y]))/n\n",
    "  reg_loss = 0.5*reg*np.sum(W1*W1) + 0.5*reg*np.sum(W2*W2)\n",
    "  loss = data_loss + reg_loss\n",
    "  losses.append(loss)\n",
    "  \n",
    "  # compute the gradient on scores\n",
    "  d_scores = p\n",
    "  d_scores[range(n),y] -= 1\n",
    "  d_scores /= n\n",
    "  \n",
    "  # backpropate the gradient to the parameters\n",
    "  dW2 = np.dot(hidden_layer.T, d_scores)\n",
    "  db2 = np.sum(d_scores, axis=0, keepdims=True)\n",
    "  d_hidden = np.dot(d_scores, W2.T)\n",
    "  d_hidden = np.dot(\n",
    "    np.dot(d_hidden.T, sigmoid(X)), (1-sigmoid(X)).T).T\n",
    "  dW1 = np.dot(X.T, d_hidden)\n",
    "  db1 = np.sum(d_hidden, axis=0, keepdims=True)\n",
    "  \n",
    "  # add regularization\n",
    "  dW2 += reg * W2\n",
    "  dW1 += reg * W1\n",
    "  \n",
    "  # update weights\n",
    "  W1 += -alpha * dW1\n",
    "  b1 += -alpha * db1\n",
    "  W2 += -alpha * dW2\n",
    "  b2 += -alpha * db2\n",
    "\n",
    "plt.plot([i for i in range(10000)], losses)\n",
    "plt.ylabel('loss')\n",
    "plt.xlabel('epochs')\n",
    "plt.title('loss over time')"
   ]
  },
  {
   "cell_type": "markdown",
   "metadata": {},
   "source": [
    "#### Part 4 — Model Accuracy\n",
    "\n",
    "Take a look at the training accuracy of the model."
   ]
  },
  {
   "cell_type": "code",
   "execution_count": 75,
   "metadata": {},
   "outputs": [
    {
     "name": "stdout",
     "output_type": "stream",
     "text": [
      "training accuracy: 0.60\n"
     ]
    }
   ],
   "source": [
    "hidden_layer = sigmoid(np.dot(X, W1) + b1)\n",
    "\n",
    "scores = np.dot(hidden_layer, W2) + b2\n",
    "y_pred = np.argmax(scores, axis=1)\n",
    "print('training accuracy: %.2f' % (np.mean(y_pred == y)))"
   ]
  },
  {
   "cell_type": "markdown",
   "metadata": {},
   "source": [
    "#### Part 5 — Plot Classifier\n",
    "\n",
    "Let's look at how the model performed visually."
   ]
  },
  {
   "cell_type": "code",
   "execution_count": 76,
   "metadata": {},
   "outputs": [
    {
     "data": {
      "text/plain": [
       "(-2.074111758718239, 2.145888241281765)"
      ]
     },
     "execution_count": 76,
     "metadata": {},
     "output_type": "execute_result"
    },
    {
     "data": {
      "image/png": "[encoded data removed]",
      "text/plain": [
       "<Figure size 432x288 with 1 Axes>"
      ]
     },
     "metadata": {
      "needs_background": "light"
     },
     "output_type": "display_data"
    }
   ],
   "source": [
    "h = 0.02\n",
    "x_min, x_max = X[:, 0].min() - 1, X[:, 0].max() + 1\n",
    "y_min, y_max = X[:, 1].min() - 1, X[:, 1].max() + 1\n",
    "xx, yy = np.meshgrid(np.arange(x_min, x_max, h),\n",
    "                     np.arange(y_min, y_max, h))\n",
    "Z = np.dot(np.maximum(0, np.dot(\n",
    "    np.c_[xx.ravel(), yy.ravel()], W1) + b1), W2) + b2\n",
    "Z = np.argmax(Z, axis=1)\n",
    "Z = Z.reshape(xx.shape)\n",
    "\n",
    "fig = plt.figure()\n",
    "plt.contourf(xx, yy, Z, cmap=plt.cm.Spectral, alpha=0.8)\n",
    "plt.scatter(X[:, 0], X[:, 1], c=y, s=40, cmap=plt.cm.Spectral)\n",
    "plt.xlim(xx.min(), xx.max())\n",
    "plt.ylim(yy.min(), yy.max())"
   ]
  },
  {
   "cell_type": "markdown",
   "metadata": {},
   "source": [
    "#### Part 6 — Discussion\n",
    "\n",
    "For some reason, I wasn't able to achieve accuracy higher than 60%. I stuck with my model parameters from number 1 (learning rate of 0.1 and hidden layer size of 100), and even with a high number of iterations, my accuracy remained around 50-60%. After evaluating the results for number 1, I have a feeling this is due mostly to the chosen activation function. Relu seems to be a bit more robust than sigmoid when it comes to neural nets from scratch, and since we're using sigmoid here, our results are going to reflect that.\n",
    "\n",
    "----- \n",
    "\n",
    "### Question 3\n",
    "\n",
    "Consider the network of neurons shown below. With the current input and weights as shown, determine the output of the network. Assume sigmoidal activation function. With the specified target output of \"1\", determine the values of the updated weights for the connections linking *U3* and *U5*, and *U3* and *U1*. This should be done using the autograd feature of PyTorch.\n",
    "\n",
    "![q3](img/q3.png)\n",
    "\n",
    "#### Part 1 — Data Initialization\n",
    "\n",
    "Define the input, expected output, weights, and biases."
   ]
  },
  {
   "cell_type": "code",
   "execution_count": 40,
   "metadata": {},
   "outputs": [],
   "source": [
    "import torch \n",
    "import numpy as np \n",
    "dtype = torch.float\n",
    "\n",
    "x = torch.from_numpy(np.array([[1, 0]])).float()\n",
    "y = torch.from_numpy(np.array([[1]])).float()\n",
    "\n",
    "w3 = torch.tensor([[3, 4]], dtype=dtype, requires_grad=True) # u3\n",
    "w4 = torch.tensor([[6, 5]], dtype=dtype, requires_grad=True) # u4\n",
    "w5 = torch.tensor([[2, 4]], dtype=dtype, requires_grad=True) # u5\n",
    "\n",
    "b1, b2, b3 = 1, -6, -3.93"
   ]
  },
  {
   "cell_type": "markdown",
   "metadata": {},
   "source": [
    "#### Part 2 — Define the Network\n",
    "\n",
    "We will use sigmoidal activation. Torch has a built-in sigmoid function that we will take advantage of."
   ]
  },
  {
   "cell_type": "code",
   "execution_count": 41,
   "metadata": {},
   "outputs": [],
   "source": [
    "def mlp(X):\n",
    "    h3 = torch.sigmoid(X@w3.T + b1) # output of u3 (hidden layer)\n",
    "    h4 = torch.sigmoid(X@w4.T + b2) # output of u4 (hidden layer)\n",
    "    h = torch.cat((h3, h4), 0)\n",
    "    output = torch.sigmoid(h.T@w5.T + b3) # output of network\n",
    "    return output"
   ]
  },
  {
   "cell_type": "markdown",
   "metadata": {},
   "source": [
    "#### Part 3 — Train the Network\n",
    "\n",
    "Perform the forward pass manually. The backward pass is taken care of by Torch."
   ]
  },
  {
   "cell_type": "code",
   "execution_count": 53,
   "metadata": {},
   "outputs": [],
   "source": [
    "alpha = 0.5 # learning rate\n",
    "\n",
    "for epoch in range(2000):\n",
    "    y_pred = mlp(x) # get the predicted value \n",
    "    loss = (y_pred - y).pow(2).sum() # calculate loss\n",
    "\n",
    "    # perform backpropagation. calling backward() will\n",
    "    # calculate gradients of any tensors that have the\n",
    "    # requires_grad=True property\n",
    "    loss.backward()\n",
    "    with torch.no_grad():\n",
    "        # update weights and reset the gradient\n",
    "        w3 -= alpha * w3.grad\n",
    "        w4 -= alpha * w4.grad\n",
    "        w5 -= alpha * w5.grad\n",
    "        w3.grad.zero_()\n",
    "        w4.grad.zero_()\n",
    "        w5.grad.zero_()"
   ]
  },
  {
   "cell_type": "markdown",
   "metadata": {},
   "source": [
    "#### Part 4 — Results\n",
    "\n",
    "Take a look at the updated weights and predicted output."
   ]
  },
  {
   "cell_type": "code",
   "execution_count": 58,
   "metadata": {},
   "outputs": [
    {
     "name": "stdout",
     "output_type": "stream",
     "text": [
      "output with updated weights: 0.9921031594276428\n",
      "\n",
      "new weight from u1 to u3: 3.1070001125335693\n",
      "new weight from u3 to u5: 4.069584369659424\n"
     ]
    }
   ],
   "source": [
    "print('output with updated weights:', mlp(x).item())\n",
    "\n",
    "print('\\nnew weight from u1 to u3:', w3[0][0].item())\n",
    "print('new weight from u3 to u5:', w5[0][0].item())\n"
   ]
  },
  {
   "cell_type": "markdown",
   "metadata": {},
   "source": [
    "#### Part 5 — Discussion\n",
    "\n",
    "The autograd model was able to achieve a very accurate prediction given a learning rate of 0.5 and 2000 iterations. Even at about 100 iterations, I was still achieving a predicted output of about 0.95, which is still very close. I experimented with decreasing the learning rate and keeping the number of epochs the same, but that reduced the accuracy of the model significantly. Normally, I'm used to using small learning rates, however it seems this model worked well with a larger one. "
   ]
  }
 ],
 "metadata": {
  "interpreter": {
   "hash": "aee8b7b246df8f9039afb4144a1f6fd8d2ca17a180786b69acc140d282b71a49"
  },
  "kernelspec": {
   "display_name": "Python 3.9.7 64-bit",
   "language": "python",
   "name": "python3"
  },
  "language_info": {
   "codemirror_mode": {
    "name": "ipython",
    "version": 3
   },
   "file_extension": ".py",
   "mimetype": "text/x-python",
   "name": "python",
   "nbconvert_exporter": "python",
   "pygments_lexer": "ipython3",
   "version": "3.9.7"
  },
  "orig_nbformat": 4
 },
 "nbformat": 4,
 "nbformat_minor": 2
}
