{
 "cells": [
  {
   "cell_type": "markdown",
   "metadata": {},
   "source": [
    "# CSI 5140 Assignment 3\n",
    "\n",
    "## Samantha Bracellari\n",
    "\n",
    "In this assignment you will train a convolution neural network to perform image classification using Fashion-MNIST dataset.\n",
    "\n",
    "The dataset has 10 classes; you will use only 5 classes of your choice. The training set for each class has 60000 images and there are 10000 images for testing for each class. You will use the following configuration for your CNN:\n",
    "\n",
    "<div style='display: flex; justify-content: center;'>\n",
    "  <img src='img/cnn.png' style='height: 400px; width: auto;'>\n",
    "</div>\n",
    "\n",
    "\n",
    "The following tasks are expected from this assignment:\n",
    "\n",
    "1. Tabulate the performance on train/test data in the form of a 5 $\\times$ 5 confusion matrix.\n",
    "2. Extract the weights of the filters in both of the convolution layers after training and visualize them as gray level images. Comment on filter shapes.\n",
    "3. Retrain the network with a different mask size, e.g., 3 $\\times$ 3 or 3 $\\times$ 5 or 5 $\\times$ 7 and tabulate the performance in the form of a confusion matrix.\n",
    "4. Select a subset of 100 test images. Measure the accuracy on the subset using any of the trained models from steps 1-3 above. Next, flip the test images at random either horizontally or vertically and measure the accuracy again. Comment on the results.\n",
    "5. Go back to Fashion-MNIST dataset and pick 100 test examples from each of the **five remaining classes not used in your experiment so far**. Feed these test examples to your trained network and determine the accuracy/confusion matrix. How does this accuracy compare with the accuracy obtained in Step 1? Is there a way to improve the accuracy obtained in Step 5?\n",
    "\n",
    "### Part 1 — Original Model Performance\n",
    "\n",
    "This section will set the basis for the rest of the assignment. I will often reference it in further sections if the code has not changed.\n",
    "\n",
    "First, we begin by loading the data, normalizing it, and extracting 5 classes as well as defining our DataLoaders."
   ]
  },
  {
   "cell_type": "code",
   "execution_count": 3,
   "metadata": {},
   "outputs": [],
   "source": [
    "from torchvision import datasets, transforms\n",
    "from torch.utils.data import DataLoader, Subset\n",
    "\n",
    "transform = transforms.Compose([\n",
    "    transforms.ToTensor(),             # load data as pytorch tensors\n",
    "    transforms.Normalize((0.5), (0.5)) # normalize/scale the images\n",
    "])\n",
    "\n",
    "# download the data from MNIST & transform it\n",
    "train_data = datasets.FashionMNIST('data', train=True, download=True, transform=transform)\n",
    "test_data  = datasets.FashionMNIST('data', train=False, download=True, transform=transform)\n",
    "\n",
    "# for this first part, we train & test with even-numbered labels\n",
    "# i.e., 0, 2, 4, 6, 8\n",
    "# we create masks that include only indices of those even-numbered labels\n",
    "train_mask = [i for i in range(len(train_data)) if train_data[i][1] % 2 == 0]\n",
    "test_mask  = [i for i in range(len(test_data)) if test_data[i][1] % 2 == 0]\n",
    "\n",
    "# use pytorch's subset function and the above masks to separate out \n",
    "# the desired data \n",
    "trainset = Subset(train_data, train_mask)\n",
    "testset  = Subset(test_data, test_mask)\n",
    "\n",
    "# re-map the labels. the net will only be expected labels of 0-4\n",
    "    # 0 -> 0\n",
    "    # 2 -> 1\n",
    "    # 4 -> 2\n",
    "    # 6 -> 3\n",
    "    # 8 -> 4\n",
    "trainset = [[t[0], int(t[1]/2)] for t in trainset]\n",
    "testset  = [[t[0], int(t[1]/2)] for t in testset]\n",
    "\n",
    "# wrap the data in a pytorch dataloader object\n",
    "trainloader = DataLoader(trainset, batch_size=1, shuffle=True)\n",
    "testloader  = DataLoader(testset, batch_size=1, shuffle=True)"
   ]
  },
  {
   "cell_type": "markdown",
   "metadata": {},
   "source": [
    "Next, we'll visualize a few of the images in the training set."
   ]
  },
  {
   "cell_type": "code",
   "execution_count": 4,
   "metadata": {},
   "outputs": [
    {
     "data": {
      "image/png": "[encoded data removed]",
      "text/plain": [
       "<Figure size 576x576 with 9 Axes>"
      ]
     },
     "metadata": {
      "needs_background": "light"
     },
     "output_type": "display_data"
    }
   ],
   "source": [
    "from torchvision.utils import make_grid\n",
    "import matplotlib.pyplot as plt \n",
    "import numpy as np \n",
    "\n",
    "classes = ['t-shirt', 'pullover', 'coat', 'shirt', 'bag']\n",
    "\n",
    "def imshow(img):\n",
    "    img = img / 2 + 0.5 # un-normalize\n",
    "    npimg = img.numpy()\n",
    "    plt.imshow(np.transpose(npimg, (1, 2, 0)))\n",
    "\n",
    "figure = plt.figure(figsize=(8, 8))\n",
    "for i in range(1, 10):\n",
    "    figure.add_subplot(3, 3, i)\n",
    "    image, label = next(iter(trainloader))\n",
    "    plt.title(classes[label[0].item()])\n",
    "    plt.axis(\"off\")\n",
    "    img = image[0].squeeze()\n",
    "    label = label[0]\n",
    "    imshow(make_grid(img))\n",
    "plt.show()"
   ]
  },
  {
   "cell_type": "markdown",
   "metadata": {},
   "source": [
    "Now we'll define our neural net, as well as our loss criteria and optimizer function."
   ]
  },
  {
   "cell_type": "code",
   "execution_count": 5,
   "metadata": {},
   "outputs": [],
   "source": [
    "import torch.nn as nn \n",
    "import torch.nn.functional as F \n",
    "from torch import optim \n",
    "\n",
    "class Net(nn.Module):\n",
    "    def __init__(self):\n",
    "        super(Net, self).__init__()\n",
    "        self.conv1 = nn.Conv2d(1, 6, kernel_size=5, padding=2)\n",
    "        self.pool = nn.AvgPool2d(kernel_size=2, stride=2)\n",
    "        self.conv2 = nn.Conv2d(6, 16, kernel_size=5)\n",
    "        self.fc1 = nn.Linear(16*5*5, 120)\n",
    "        self.fc2 = nn.Linear(120, 84)\n",
    "        self.fc3 = nn.Linear(84, 5)\n",
    "\n",
    "    def forward(self, x):\n",
    "        x = self.pool(F.relu(self.conv1(x)))\n",
    "        x = self.pool(F.relu(self.conv2(x)))\n",
    "        x = x.view(-1, 16*5*5)\n",
    "        x = F.relu(self.fc1(x))\n",
    "        x = F.relu(self.fc2(x))\n",
    "        x = self.fc3(x)\n",
    "        return x\n",
    "\n",
    "net = Net()\n",
    "criterion = nn.CrossEntropyLoss()\n",
    "optimizer = optim.SGD(net.parameters(), lr=0.001, momentum=0.9)"
   ]
  },
  {
   "cell_type": "markdown",
   "metadata": {},
   "source": [
    "Now, we train the model, and take a look and the loss every 10,000 iterations."
   ]
  },
  {
   "cell_type": "code",
   "execution_count": 6,
   "metadata": {},
   "outputs": [
    {
     "name": "stdout",
     "output_type": "stream",
     "text": [
      "[1, 10000] loss: 0.840\n",
      "[1, 20000] loss: 0.592\n",
      "[1, 30000] loss: 0.530\n",
      "[2, 10000] loss: 0.481\n",
      "[2, 20000] loss: 0.465\n",
      "[2, 30000] loss: 0.443\n",
      "finished training\n"
     ]
    }
   ],
   "source": [
    "from torch.autograd import Variable\n",
    "\n",
    "for epoch in range(2):\n",
    "    running_loss = 0.0\n",
    "    for i, data in enumerate(trainloader, 0):\n",
    "        inputs, labels = data \n",
    "        inputs, labels = Variable(inputs), Variable(labels)\n",
    "\n",
    "        optimizer.zero_grad()\n",
    "\n",
    "        outputs = net(inputs)\n",
    "        loss = criterion(outputs, labels)\n",
    "        loss.backward()\n",
    "        optimizer.step()\n",
    "\n",
    "        running_loss += loss.item()\n",
    "        if i % 10000 == 9999:\n",
    "            print('[%d, %5d] loss: %.3f' % (epoch+1, i+1, running_loss/10000))\n",
    "            running_loss = 0.0\n",
    "print('finished training')"
   ]
  },
  {
   "cell_type": "markdown",
   "metadata": {},
   "source": [
    "Let's look at some of the predictions our model made on the test data."
   ]
  },
  {
   "cell_type": "code",
   "execution_count": 7,
   "metadata": {},
   "outputs": [
    {
     "data": {
      "image/png": "[encoded data removed]",
      "text/plain": [
       "<Figure size 576x576 with 9 Axes>"
      ]
     },
     "metadata": {
      "needs_background": "light"
     },
     "output_type": "display_data"
    }
   ],
   "source": [
    "from torchvision.utils import make_grid\n",
    "import matplotlib.pyplot as plt\n",
    "import torch\n",
    "\n",
    "figure = plt.figure(figsize=(8, 8))\n",
    "plt.subplots_adjust(hspace=0.5)\n",
    "for i in range(1, 10):\n",
    "    figure.add_subplot(3, 3, i)\n",
    "    images, labels = next(iter(testloader))\n",
    "    outputs = net(Variable(images))\n",
    "    _, predicted = torch.max(outputs.data, 1)\n",
    "    plt.title('predicted: %s \\nactual: %s' % (classes[predicted.item()], classes[labels[0].item()]))\n",
    "    plt.axis(\"off\")\n",
    "    img = images[0].squeeze()\n",
    "    label = labels[0]\n",
    "    imshow(make_grid(img))\n",
    "plt.show()"
   ]
  },
  {
   "cell_type": "markdown",
   "metadata": {},
   "source": [
    "The model performed decently well from what we can see in this small subset of images. It seemed to struggle between \"shirt\" and \"t-shirt\", which makes sense as those categories are pretty similar.\n",
    "\n",
    "Now, we look at the overall accuracy of the model, as well as categorical accuracy."
   ]
  },
  {
   "cell_type": "code",
   "execution_count": 8,
   "metadata": {},
   "outputs": [
    {
     "name": "stdout",
     "output_type": "stream",
     "text": [
      "accuracy on 10000 test images: 82%\n",
      "accuracy of t-shirt:\t88%\n",
      "accuracy of pullover:\t81%\n",
      "accuracy of  coat:\t81%\n",
      "accuracy of shirt:\t63%\n",
      "accuracy of   bag:\t98%\n"
     ]
    }
   ],
   "source": [
    "import torch \n",
    "from torch.autograd import Variable\n",
    "\n",
    "correct, total =  0, 0\n",
    "labels, predictions = [], []\n",
    "for data in testloader:\n",
    "    image, label = data\n",
    "    output = net(Variable(image))\n",
    "    _, prediction = torch.max(output.data, 1)\n",
    "\n",
    "    predictions.append(prediction.item())\n",
    "    labels.append(label.item())\n",
    "    total += label.size(0)\n",
    "    correct += (prediction == label).sum()\n",
    "\n",
    "score = 100*(correct.item()/total)\n",
    "print('accuracy on 10000 test images: %2d%%' % score)\n",
    "\n",
    "class_correct = list(0. for _ in range(5))\n",
    "class_total = list(0. for _ in range(5))\n",
    "for data in testloader:\n",
    "    image, label = data \n",
    "    output = net(Variable(image))\n",
    "    _, prediction = torch.max(output.data, 1)\n",
    "    c = (prediction == label).squeeze()\n",
    "\n",
    "    class_correct[label] += c\n",
    "    class_total[label] += 1\n",
    "\n",
    "for i in range(5):\n",
    "    print('accuracy of %5s:\\t%2d%%' % (\n",
    "        classes[i], 100*class_correct[i]/class_total[i]\n",
    "    ))"
   ]
  },
  {
   "cell_type": "markdown",
   "metadata": {},
   "source": [
    "As we can see, the accuracy of \"t-shirt\" and \"shirt\" are lower than the other categories.\n",
    "\n",
    "Finally, we tabulate our data in the form of a confusion matrix."
   ]
  },
  {
   "cell_type": "code",
   "execution_count": 9,
   "metadata": {},
   "outputs": [
    {
     "data": {
      "text/plain": [
       "Text(0.5, 1.0, 'accuracy score: 82%')"
      ]
     },
     "execution_count": 9,
     "metadata": {},
     "output_type": "execute_result"
    },
    {
     "data": {
      "image/png": "[encoded data removed]",
      "text/plain": [
       "<Figure size 648x648 with 2 Axes>"
      ]
     },
     "metadata": {
      "needs_background": "light"
     },
     "output_type": "display_data"
    }
   ],
   "source": [
    "import seaborn as sns\n",
    "from sklearn import metrics\n",
    "import matplotlib.pyplot as plt \n",
    "\n",
    "title = 'accuracy score: {:.0%}'.format(correct/total)\n",
    "cm = metrics.confusion_matrix(labels, predictions)\n",
    "\n",
    "plt.figure(figsize=(9,9))\n",
    "sns.heatmap(\n",
    "    cm, annot=True, fmt='0.3f', linewidths=0.5, square=True, cmap='Blues_r'\n",
    ")\n",
    "plt.ylabel('actual label')\n",
    "plt.xlabel('predicted label')\n",
    "plt.title(title, size=15)"
   ]
  },
  {
   "cell_type": "markdown",
   "metadata": {},
   "source": [
    "The confusion matrix supports our accuracy calculations well, with the highest scores along the diagonal where the predicted label is equal to the target label.\n",
    "\n",
    "-----\n",
    "\n",
    "### Part 2 – Convolution Visualization\n",
    "\n",
    "In this section, we visualize the weights of each convolution layer as grey scale images.\n",
    "\n",
    "We first define a short function to un-normalize the image and transpose it before plotting."
   ]
  },
  {
   "cell_type": "code",
   "execution_count": 10,
   "metadata": {},
   "outputs": [],
   "source": [
    "import numpy as np\n",
    "\n",
    "def imshow(img):\n",
    "    img = img / 2 + 0.5 # un-normalize\n",
    "    npimg = img.numpy()\n",
    "    return np.transpose(npimg, (1, 2, 0))"
   ]
  },
  {
   "cell_type": "markdown",
   "metadata": {},
   "source": [
    "The first layer has one set of weights, with 6 images in that set."
   ]
  },
  {
   "cell_type": "code",
   "execution_count": 11,
   "metadata": {},
   "outputs": [
    {
     "name": "stderr",
     "output_type": "stream",
     "text": [
      "Clipping input data to the valid range for imshow with RGB data ([0..1] for floats or [0..255] for integers).\n"
     ]
    },
    {
     "data": {
      "image/png": "[encoded data removed]",
      "text/plain": [
       "<Figure size 720x720 with 6 Axes>"
      ]
     },
     "metadata": {
      "needs_background": "light"
     },
     "output_type": "display_data"
    }
   ],
   "source": [
    "from torchvision.utils import make_grid\n",
    "import matplotlib.pyplot as plt\n",
    "\n",
    "conv1 = net.conv1.weight\n",
    "\n",
    "fig1, axs1 = plt.subplots(nrows=1, ncols=6, figsize=(10, 10))\n",
    "for i in range(len(conv1)):\n",
    "    img = imshow(make_grid(conv1[i]))\n",
    "    axs1[i].axis(\"off\")\n",
    "    axs1[i].imshow(img)"
   ]
  },
  {
   "cell_type": "markdown",
   "metadata": {},
   "source": [
    "The second layer has 16 sets of 6 images."
   ]
  },
  {
   "cell_type": "code",
   "execution_count": 24,
   "metadata": {},
   "outputs": [
    {
     "name": "stderr",
     "output_type": "stream",
     "text": [
      "Clipping input data to the valid range for imshow with RGB data ([0..1] for floats or [0..255] for integers).\n"
     ]
    },
    {
     "data": {
      "image/png": "[encoded data removed]",
      "text/plain": [
       "<Figure size 360x576 with 48 Axes>"
      ]
     },
     "metadata": {
      "needs_background": "light"
     },
     "output_type": "display_data"
    },
    {
     "data": {
      "image/png": "[encoded data removed]",
      "text/plain": [
       "<Figure size 360x576 with 48 Axes>"
      ]
     },
     "metadata": {
      "needs_background": "light"
     },
     "output_type": "display_data"
    }
   ],
   "source": [
    "from torchvision.utils import make_grid\n",
    "import matplotlib.pyplot as plt\n",
    "\n",
    "conv2 = net.conv2.weight\n",
    "\n",
    "fig2, axs2 = plt.subplots(nrows=8, ncols=6, figsize=(5, 8))\n",
    "for i in range(8):\n",
    "    for j in range(len(conv2[i])):\n",
    "        img = imshow(make_grid(conv2[i][j]))\n",
    "        axs2[i, j].axis(\"off\")\n",
    "        axs2[i, j].imshow(img)\n",
    "\n",
    "fig3, axs3 = plt.subplots(nrows=8, ncols=6, figsize=(5, 8))\n",
    "for i in range(8, 16):\n",
    "    for j in range(len(conv2[i])):\n",
    "        img = imshow(make_grid(conv2[i][j]))\n",
    "        axs3[i-8, j].axis(\"off\")\n",
    "        axs3[i-8, j].imshow(img)"
   ]
  },
  {
   "cell_type": "markdown",
   "metadata": {},
   "source": [
    "Each image is 5 pixels by 5 pixels, which can be mapped directly to our choice in kernel size when defining the convolution layers in the original network. We defined our first convolution layer to have 1 input channel and 6 output channel, which is why we see 1 set of 6 5 $\\times$ 5 images in the first layer. Similarly, we defined the second layer to have 6 input channels and 16 output channels. Thus we are met with 16 sets of 6 images in this layer.\n",
    "\n",
    "----- \n",
    "\n",
    "### Part 3 — Mask Modification\n",
    "\n",
    "For this section, we change the kernel mask size in the neural net. I chose a 5 $\\times$ 7 mask. The modified code is below."
   ]
  },
  {
   "cell_type": "code",
   "execution_count": 23,
   "metadata": {},
   "outputs": [],
   "source": [
    "import torch.nn as nn \n",
    "import torch.nn.functional as F \n",
    "from torch import optim\n",
    "\n",
    "class Net(nn.Module):\n",
    "    def __init__(self):\n",
    "        super(Net, self).__init__()\n",
    "        self.conv1 = nn.Conv2d(1, 6, kernel_size=5, padding=2)\n",
    "        self.pool = nn.AvgPool2d(kernel_size=2, stride=2)\n",
    "        self.conv2 = nn.Conv2d(6, 16, kernel_size=7)\n",
    "        self.fc1 = nn.Linear(16*16, 120)\n",
    "        self.fc2 = nn.Linear(120, 84)\n",
    "        self.fc3 = nn.Linear(84, 5)\n",
    "\n",
    "    def forward(self, x):\n",
    "        x = self.pool(F.relu(self.conv1(x)))\n",
    "        x = self.pool(F.relu(self.conv2(x)))\n",
    "        x = x.view(-1, 16*16)\n",
    "        x = F.relu(self.fc1(x))\n",
    "        x = F.relu(self.fc2(x))\n",
    "        x = self.fc3(x)\n",
    "        return x\n",
    "\n",
    "net = Net()\n",
    "criterion = nn.CrossEntropyLoss()\n",
    "optimizer = optim.SGD(net.parameters(), lr=0.001, momentum=0.9)"
   ]
  },
  {
   "cell_type": "markdown",
   "metadata": {},
   "source": [
    "Since we changed the kernel size, the initial size of the image also had to change. Before it was 16 $\\times$ 5 $\\times$ 5, but now it is 16 $\\times$ 16.\n",
    "\n",
    "The rest of the code is the same as section 1, so I will opt not to paste it again. Instead, I will note that the modified model had\n",
    "\n",
    "- An overall accuracy of 78%\n",
    "- An accuracy of 61% for t-shirts\n",
    "- An accuracy of 70% for pullovers\n",
    "- An accuracy of 80% for coats\n",
    "- An accuracy of 80% for shirts, and\n",
    "- An accuracy of 97% for bags\n",
    "\n",
    "I'll insert photos of some of the predictions as well as the confusion matrix, and compare the results to part 1.\n",
    "\n",
    "![1.3-predictions](img/1.3-predictions.png)\n",
    "\n",
    "![1.3-matrix](img/1.3-matrix.png)\n",
    "\n",
    "The models had similar performance, with the 5 $\\times$ 5 being just a bit more accurate. However, this model seemed to be able to distinguish between shirts and t-shirts a bit better than the first one.\n",
    "\n",
    "-----\n",
    "\n",
    "### Part 4 — Image Modification\n",
    "\n",
    "Using the same model as above, we will choose 100 test images and look at the accuracy again. Then, we'll flip the images vertically, and take another look at accuracy.\n",
    "\n",
    "First, we re-define our `testset` and `testloader` by adding another mask:"
   ]
  },
  {
   "cell_type": "code",
   "execution_count": 37,
   "metadata": {},
   "outputs": [],
   "source": [
    "import random\n",
    "\n",
    "test_mask = sorted(random.sample(range(1, len(testset)), 100))\n",
    "testset   = Subset(testset, test_mask)\n",
    "testloader  = DataLoader(testset, batch_size=1, shuffle=True)"
   ]
  },
  {
   "cell_type": "markdown",
   "metadata": {},
   "source": [
    "The rest of the code is the same as part 1. The accuracy scores were the following:\n",
    "\n",
    "- 89% overall\n",
    "- 95% for t-shirts\n",
    "- 81% for pullovers\n",
    "- 85% for coats\n",
    "- 75% for shirts\n",
    "- 100% for bags\n",
    "\n",
    "Here are some of the predictions as well as a confusion matrix:\n",
    "\n",
    "![1.4-predictions](img/1.4-predictions.png)\n",
    "\n",
    "![1.4-matrix](img/1.4-matrix.png)\n",
    "\n",
    "This small-scale test is the best scoring yet.\n",
    "\n",
    "Next, we flip the images and run the tests again. The code will be the same, aside doing the following to the test set before wrapping it in a DataLoader:"
   ]
  },
  {
   "cell_type": "code",
   "execution_count": 40,
   "metadata": {},
   "outputs": [],
   "source": [
    "testset = [[torch.flip(t[0], [0, 1]), t[1]] for t in testset]\n",
    "testloader  = DataLoader(testset, batch_size=1, shuffle=True)"
   ]
  },
  {
   "cell_type": "markdown",
   "metadata": {},
   "source": [
    "The accuracies for the flipped images are as follows:\n",
    "\n",
    "- 15% overall\n",
    "- 42% for t-shirts\n",
    "- 0% for pullovers\n",
    "- 0% for coats\n",
    "- 31% for shirts\n",
    "- 0% for bags\n",
    "\n",
    "And the corresponding images and confusion matrix:\n",
    "\n",
    "![1.4-predictions-flipped](img/1.4-predictions-flipped.png)\n",
    "\n",
    "![1.4-matrix-flipped](img/1.4-matrix-flipped.png)\n",
    "\n",
    "Interestingly, the only classes that the model was able to correctly predict were t-shirts and shirts, the very two classes that it struggled with in earlier sections. Perhaps the similarities between them helped the model instead of hurt it this time.\n",
    "\n",
    "### Part 5 — Completely New Test Data\n",
    "\n",
    "For this section, we train on the original 5 classes, but test with the remaining 5. I'm going to include the entire first bit of loading the data since it has changed quite a bit from section 1.\n"
   ]
  },
  {
   "cell_type": "code",
   "execution_count": 1,
   "metadata": {},
   "outputs": [],
   "source": [
    "from torchvision import datasets, transforms\n",
    "from torch.utils.data import DataLoader, Subset\n",
    "import torch\n",
    "import random\n",
    "\n",
    "transform = transforms.Compose([\n",
    "    transforms.ToTensor(),\n",
    "    transforms.Normalize((0.5), (0.5))\n",
    "])\n",
    "\n",
    "train_data = datasets.FashionMNIST('data', train=True, download=True, transform=transform)\n",
    "test_data  = datasets.FashionMNIST('data', train=False, download=True, transform=transform)\n",
    "\n",
    "train_mask = [i for i in range(len(train_data)) if train_data[i][1] % 2 == 0]\n",
    "trainset = Subset(train_data, train_mask)\n",
    "trainset = [[t[0], int(t[1]/2)] for t in trainset]\n",
    "\n",
    "# separate out into each class\n",
    "test_mask0 = [i for i in range(len(test_data)) if test_data[i][1] == 1]\n",
    "test_mask1 = [i for i in range(len(test_data)) if test_data[i][1] == 3]\n",
    "test_mask2 = [i for i in range(len(test_data)) if test_data[i][1] == 5]\n",
    "test_mask3 = [i for i in range(len(test_data)) if test_data[i][1] == 7]\n",
    "test_mask4 = [i for i in range(len(test_data)) if test_data[i][1] == 9]\n",
    "\n",
    "# grab 100 samples from each class\n",
    "indices = sorted(random.sample(range(1, 1000), 100))\n",
    "t0 = [test_mask0[i] for i in indices]\n",
    "t1 = [test_mask1[i] for i in indices]\n",
    "t2 = [test_mask2[i] for i in indices]\n",
    "t3 = [test_mask3[i] for i in indices]\n",
    "t4 = [test_mask4[i] for i in indices]\n",
    "\n",
    "# combine back into one mask, remap the labels and throw into\n",
    "# a DataLoader\n",
    "masks = [t0, t1, t2, t3, t4]\n",
    "test_mask = sorted([item for sublist in masks for item in sublist])\n",
    "testset  = Subset(test_data, test_mask)\n",
    "testset  = [[t[0], int(t[1]//2)] for t in testset]\n",
    "\n",
    "trainloader = DataLoader(trainset, batch_size=1, shuffle=True)\n",
    "testloader  = DataLoader(testset, batch_size=1, shuffle=True)"
   ]
  },
  {
   "cell_type": "markdown",
   "metadata": {},
   "source": [
    "The rest of the code is the same as part 1 (with the only other difference being the different class labels), so I will just note the accuracies and post some of the predictions as well as a confusion matrix.\n",
    "\n",
    "The accuracies were...\n",
    "\n",
    "- 25% overall\n",
    "- 37% for trousers\n",
    "- 3% for dresses\n",
    "- 0% for sandals \n",
    "- 0% for sneakers\n",
    "- 86% for ankleboots\n",
    "\n",
    "![1.5-predictions](img/1.5-predictions.png)\n",
    "\n",
    "![1.5-matrix](img/1.5-matrix.png)\n",
    "\n",
    "I find it interesting that the model was able to predict that an image was an ankleboot with fairly high accuracy, but was not able to predict that something was a sneaker or sandal at all. This is probably because it was just predicting that nearly everything was an ankleboot, and we aren't really reading into false positives as much as we are false negatives.\n",
    "\n",
    "For obvious reasons, the accuracy in this step is much lower than that of part 1, but it is still higher than I thought it would be. I think the accuracy of the model could be improved with a more careful choice of the labels going into it; picking classes that are significantly different from each other would probably give the model the best chance at a high accuracy."
   ]
  }
 ],
 "metadata": {
  "interpreter": {
   "hash": "aee8b7b246df8f9039afb4144a1f6fd8d2ca17a180786b69acc140d282b71a49"
  },
  "kernelspec": {
   "display_name": "Python 3.9.7 64-bit",
   "language": "python",
   "name": "python3"
  },
  "language_info": {
   "codemirror_mode": {
    "name": "ipython",
    "version": 3
   },
   "file_extension": ".py",
   "mimetype": "text/x-python",
   "name": "python",
   "nbconvert_exporter": "python",
   "pygments_lexer": "ipython3",
   "version": "3.9.7"
  },
  "orig_nbformat": 4
 },
 "nbformat": 4,
 "nbformat_minor": 2
}
