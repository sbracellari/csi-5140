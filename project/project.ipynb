{
 "cells": [
  {
   "cell_type": "code",
   "execution_count": 9,
   "metadata": {},
   "outputs": [
    {
     "name": "stdout",
     "output_type": "stream",
     "text": [
      "Running on local URL:  http://127.0.0.1:7862/\n",
      "\n",
      "To create a public link, set `share=True` in `launch()`.\n"
     ]
    },
    {
     "data": {
      "text/html": [
       "\n",
       "        <iframe\n",
       "            width=\"900\"\n",
       "            height=\"500\"\n",
       "            src=\"http://127.0.0.1:7862/\"\n",
       "            frameborder=\"0\"\n",
       "            allowfullscreen\n",
       "        ></iframe>\n",
       "        "
      ],
      "text/plain": [
       "<IPython.lib.display.IFrame at 0x7f937855d820>"
      ]
     },
     "metadata": {},
     "output_type": "display_data"
    },
    {
     "data": {
      "text/plain": [
       "(<fastapi.applications.FastAPI at 0x7f9330120b50>,\n",
       " 'http://127.0.0.1:7862/',\n",
       " None)"
      ]
     },
     "execution_count": 9,
     "metadata": {},
     "output_type": "execute_result"
    }
   ],
   "source": [
    "import gradio as gr\n",
    "import pandas as pd\n",
    "\n",
    "def get_results(algorithm, dataset):\n",
    "    if algorithm == 'CNN':\n",
    "        \n",
    "        cols, scores = cnn(dataset)\n",
    "    elif algorithm == 'K-Means':\n",
    "        \n",
    "        cols, scores = kmeans(dataset)\n",
    "    elif algorithm == 'SCAN':\n",
    "        \n",
    "        cols, scores = scan(dataset)\n",
    "    \n",
    "    data = pd.DataFrame(scores, columns=cols)\n",
    "    r = 'results for ' + algorithm + ' on ' + dataset + ' dataset'\n",
    "    return r, data\n",
    "\n",
    "iface = gr.Interface(\n",
    "    fn=get_results,\n",
    "    inputs=[\n",
    "        gr.inputs.Radio(['CNN', 'K-Means', 'SCAN']),\n",
    "        gr.inputs.Radio(['CIFAR10', 'CIFAR100-20', 'STL10', 'ImageNet'])\n",
    "    ],\n",
    "    outputs=['text', 'dataframe'],\n",
    "    title='unsupervised vs supervised learning',\n",
    "    description='choose a dataset and an algorithm, see results'\n",
    ")\n",
    "\n",
    "iface.launch()"
   ]
  },
  {
   "cell_type": "code",
   "execution_count": 8,
   "metadata": {},
   "outputs": [],
   "source": [
    "def kmeans(dataset):\n",
    "    cols = ['k-value', 'ARI', 'NMI', 'ACC']\n",
    "    \n",
    "    if dataset == 'CIFAR10':\n",
    "        scores = [\n",
    "            [2,  31.2, 14.2, 7.6],\n",
    "            [5,  34.0, 16.2, 9.3],\n",
    "            [10, 33.9, 17.1, 9.4],\n",
    "            [12, 34.3, 17.3, 9.6],\n",
    "            [15, 34.1, 16.9, 9.5],\n",
    "            [20, 33.8, 17.0, 9.3]\n",
    "        ]\n",
    "    elif dataset == 'CIFAR100-20':\n",
    "        scores = [\n",
    "            [80,  13.8, 22.4, 3.0],\n",
    "            [90,  13.5, 22.2, 2.9],\n",
    "            [95,  13.5, 22.2, 2.9],\n",
    "            [100, 13.4, 22.1, 2.8],\n",
    "            [105, 13.4, 22.2, 2.9], \n",
    "            [120, 13.2, 22.2, 2.8]\n",
    "        ]\n",
    "    elif dataset == 'STL10':\n",
    "        scores = [\n",
    "            [2,  26.4, 14.2, 8.1],\n",
    "            [5,  27.6, 15.9, 9.5],\n",
    "            [10, 27.1, 16.3, 9.2],\n",
    "            [12, 26.9, 16.5, 9.2],\n",
    "            [15, 26.8, 16.8, 9.0],\n",
    "            [20, 27.1, 17.4, 9.0]\n",
    "        ]\n",
    "    elif dataset == 'ImageNet':\n",
    "        cols = ['# of classes', 'NMI', 'ARI']\n",
    "        scores = [\n",
    "            [50, 77.5, 57.9],\n",
    "            [100, 76.1, 50.8],\n",
    "            [200, 75.5, 43.2]\n",
    "        ]\n",
    "\n",
    "    return cols, scores\n"
   ]
  },
  {
   "cell_type": "code",
   "execution_count": 7,
   "metadata": {},
   "outputs": [],
   "source": [
    "def cnn(dataset):   \n",
    "    cols = ['ARI', 'NMI', 'ACC']  \n",
    "\n",
    "    if dataset == 'CIFAR10':\n",
    "        scores = [[33.0, 39.4, 58.4]]\n",
    "    elif dataset == 'CIFAR100-20':\n",
    "        scores = [[8.2, 32.5, 23.3]]\n",
    "    elif dataset == 'STL10':\n",
    "        scores = [[13.2, 21.7, 36.5]]\n",
    "    elif dataset == 'ImageNet':\n",
    "        cols = ['no data available']\n",
    "        scores = [['n/a']]\n",
    "\n",
    "    return cols, scores"
   ]
  },
  {
   "cell_type": "code",
   "execution_count": 6,
   "metadata": {},
   "outputs": [],
   "source": [
    "def scan(dataset):\n",
    "    cols = ['ARI', 'NMI', 'ACC']\n",
    "\n",
    "    if dataset == 'CIFAR10':\n",
    "        scores = [[77.2, 79.7, 88.3]]\n",
    "    elif dataset == 'CIFAR100-20':\n",
    "        scores = [[33.3, 48.6, 50.7]]\n",
    "    elif dataset == 'STL10':\n",
    "        scores = [[64.6, 69.8, 80.9]]\n",
    "    elif dataset == 'ImageNet':\n",
    "        cols = ['# of classes', 'NMI', 'ARI']\n",
    "        scores = [\n",
    "            [50, 82.2, 66.1],\n",
    "            [100, 80.8, 57.6],\n",
    "            [200, 77.2, 47.0]\n",
    "        ]\n",
    "\n",
    "    return cols, scores"
   ]
  }
 ],
 "metadata": {
  "interpreter": {
   "hash": "aee8b7b246df8f9039afb4144a1f6fd8d2ca17a180786b69acc140d282b71a49"
  },
  "kernelspec": {
   "display_name": "Python 3.9.7 64-bit",
   "language": "python",
   "name": "python3"
  },
  "language_info": {
   "codemirror_mode": {
    "name": "ipython",
    "version": 3
   },
   "file_extension": ".py",
   "mimetype": "text/x-python",
   "name": "python",
   "nbconvert_exporter": "python",
   "pygments_lexer": "ipython3",
   "version": "3.9.7"
  },
  "orig_nbformat": 4
 },
 "nbformat": 4,
 "nbformat_minor": 2
}
